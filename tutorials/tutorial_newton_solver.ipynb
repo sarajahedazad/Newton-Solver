{
  "nbformat": 4,
  "nbformat_minor": 0,
  "metadata": {
    "colab": {
      "provenance": []
    },
    "kernelspec": {
      "name": "python3",
      "display_name": "Python 3"
    },
    "language_info": {
      "name": "python"
    }
  },
  "cells": [
    {
      "cell_type": "markdown",
      "source": [
        "**Example 1**\n",
        "\n",
        "Finding the roots of array $[x_{0}^3-4x_0, x_{1}^2-4x_1]$."
      ],
      "metadata": {
        "id": "z8vuoUUo_DTy"
      }
    },
    {
      "cell_type": "code",
      "source": [
        "import numpy as np\n",
        "import sympy\n",
        "from newtonsolver import newton_solver as ns\n",
        "\n",
        "n = 2\n",
        "x = sympy.symbols(f'x:{n}')\n",
        "\n",
        "F = sympy.Matrix([x[0]**3- 4 *x[0], x[1]**2- 4 *x[1]])\n",
        "J = F.jacobian(x)\n",
        "x0 = np.array([1.5, 2.2])\n",
        "\n",
        "found = ns.solver( F, J, x, x0, verbose = True)\n",
        "known = np.array([2, 4])\n",
        "\n",
        "print( f'The known answer is {known}, the found answer is {found}')"
      ],
      "metadata": {
        "colab": {
          "base_uri": "https://localhost:8080/"
        },
        "id": "TaYIi1zl_Dgd",
        "outputId": "f342e5e8-1414-45e1-cdf0-9e09ea049857"
      },
      "execution_count": 1,
      "outputs": [
        {
          "output_type": "stream",
          "name": "stdout",
          "text": [
            "Iteration 1; absolute error is [ 4.96994741 98.01      ] ; relative error is [0.95454545 9.9       ]\n",
            "Iteration 2; absolute error is [ 0.87416825 23.54171184] ; relative error is [0.35312016 4.8519802 ]\n",
            "Iteration 3; absolute error is [0.05548452 5.03066222] ; relative error is [0.09452547 2.24291378]\n",
            "Iteration 4; absolute error is [2.83371694e-04 7.00600956e-01] ; relative error is [0.0068644  0.83701909]\n",
            "Iteration 5; absolute error is [7.52736895e-09 2.61052631e-02] ; relative error is [3.54195798e-05 1.61571232e-01]\n",
            "Iteration 6; absolute error is [0.00000000e+00 4.23166261e-05] ; relative error is [9.40921119e-10 6.50512306e-03]\n",
            "Iteration 7; absolute error is [0.00000000e+00 1.11917586e-10] ; relative error is [0.00000000e+00 1.05791006e-05]\n",
            "The known answer is [2 4], the found answer is [2. 4.]\n"
          ]
        }
      ]
    },
    {
      "cell_type": "markdown",
      "source": [
        "---\n",
        "**Example 2**\n",
        "\n",
        "Fiding the root of $log( x + 8 )$."
      ],
      "metadata": {
        "id": "tK-azgJ-_c_Y"
      }
    },
    {
      "cell_type": "code",
      "source": [
        "import numpy as np\n",
        "import sympy\n",
        "from newtonsolver import newton_solver as ns\n",
        "\n",
        "n = 1\n",
        "x = sympy.symbols(f'x:{n}')\n",
        "\n",
        "F = sympy.Matrix([sympy.log( x[0] + 8)])\n",
        "J = F.jacobian(x)\n",
        "x0 = np.array([-6])\n",
        "\n",
        "found = ns.solver(F, J, x, x0, verbose=True)\n",
        "known = np.array([-7])\n",
        "\n",
        "print(f'The known answer is {known}, the found answer is {found}')\n"
      ],
      "metadata": {
        "colab": {
          "base_uri": "https://localhost:8080/"
        },
        "id": "8JWZN5yX_b_y",
        "outputId": "bfa7dba5-0bdc-440a-a600-0f629658371b"
      },
      "execution_count": 11,
      "outputs": [
        {
          "output_type": "stream",
          "name": "stdout",
          "text": [
            "Iteration 1; absolute error is 0.4882398812960585 ; relative error is [1.38629436]\n",
            "Iteration 2; absolute error is 0.09064574732975608 ; relative error is [0.29963557]\n",
            "Iteration 3; absolute error is 0.0038757977624382734 ; relative error is [0.0827905]\n",
            "Iteration 4; absolute error is 7.491553223610358e-06 ; relative error is [0.00386081]\n",
            "Iteration 5; absolute error is 2.806110899239947e-11 ; relative error is [7.4914971e-06]\n",
            "The known answer is [-7], the found answer is [-7.]\n"
          ]
        }
      ]
    },
    {
      "cell_type": "markdown",
      "source": [
        "---\n",
        "**Example 3**\n",
        "\n",
        "finding the root of $e^x + e^{-x} - 2.2$."
      ],
      "metadata": {
        "id": "MilympvU_gYX"
      }
    },
    {
      "cell_type": "code",
      "source": [
        "import numpy as np\n",
        "import sympy\n",
        "from newtonsolver import newton_solver as ns\n",
        "\n",
        "n = 1\n",
        "x = sympy.symbols(f'x:{n}')\n",
        "\n",
        "F = sympy.Matrix([sympy.exp(x[0]) + sympy.exp(-x[0]) - 2.2])\n",
        "J = F.jacobian(x)\n",
        "x0 = np.array([1])\n",
        "\n",
        "found = ns.solver(F, J, x, x0, verbose=True)\n",
        "known = np.array([0.443568])\n",
        "\n",
        "print(f'The known answer is {known}, the found answer is {found}')\n"
      ],
      "metadata": {
        "colab": {
          "base_uri": "https://localhost:8080/"
        },
        "id": "O60FcWaU_gkF",
        "outputId": "db48249d-748b-4a36-8d00-151cc81a7e2f"
      },
      "execution_count": 12,
      "outputs": [
        {
          "output_type": "stream",
          "name": "stdout",
          "text": [
            "Iteration 1; absolute error is 0.20081256092593092 ; relative error is [0.37702534]\n",
            "Iteration 2; absolute error is 0.026729564056791055 ; relative error is [0.15120069]\n",
            "Iteration 3; absolute error is 0.0008267884577669582 ; relative error is [0.02730458]\n",
            "Iteration 4; absolute error is 8.915257716513025e-07 ; relative error is [0.00090015]\n",
            "Iteration 5; absolute error is 1.0408340855860843e-12 ; relative error is [9.72732094e-07]\n",
            "The known answer is [0.443568], the found answer is [0.44356825]\n"
          ]
        }
      ]
    },
    {
      "cell_type": "markdown",
      "source": [
        "---\n",
        "**Example 4: Projectile Problem A**\n",
        "\n",
        "A ball is launched at an initial velocity of $V_0$ and the angle  of θ relative to the horizon.    What should the θ be if the ball can travel for $x_{traveled}$ horizentally before it hits the ground?  \n",
        "\n",
        "Find the θ numerically using bisection method, given the following values.\n",
        "\n",
        "$g=9.81 m/s^2$ : gravitational acceleration  \n",
        "$V_0=10 m / s^2$ : initial magnitude of the velocity  \n",
        "$x_{traveled}=10 m$ : the distance that the ball travels horizontally before it hits the ground.  \n",
        "$x$ : horizental coordination   \n",
        "$y$ : vertical coordination     \n",
        "$t$ : time   \n",
        "$t_{ground} $ : the time at which the ball hits the ground        \n",
        "$V_y$ : velocity in the vertical direction  \n",
        "$V_x$ : velocity in the horizental direction  \n",
        "$\\theta$ : The angle that the direction of the velocity makes with the horizon   \n",
        "\n",
        "---\n",
        "**Answer:**  \n",
        "$V_x = V_0 cos(\\theta)$ → $x = \\int_{0}^{t} V_0 cos(\\theta) \\,dt = V_0 cos(\\theta)t$  \n",
        "$V_y = (V_0)_y - g t = V_0 sin(\\theta) - g t$ → $y = \\int_{0}^{t} (V_0 sin(\\theta) - gt) \\,dt = V_0 sin(\\theta)t - \\frac{1}{2}gt^2$  \n",
        "\n",
        "$t$ at $y = 0$ →  $V_0 sin(\\theta)t_{ground} - \\frac{1}{2}gt_{ground}^2=0$ → $t_{ground}=\\frac{2 V_0 sin\\theta}{g}$   \n",
        "$x_{traveled} = V_0 cos(\\theta) \\frac{2 V_0 sin\\theta}{g} = \\frac{V_0^2sin(2\\theta)}{g} $   \n",
        "\n",
        "So we have to solve the following equation for θ:  \n",
        "$x_{traveled} -\\frac{V_0^2sin(2\\theta)}{g} = 0 $    \n",
        "\n",
        "for  $g=9.81 m/s^2, V_0=10 m / s^2, x_{traveled}=10 m$\n",
        "\n",
        "PS: Analytical answer ⇒ $\\theta = \\frac{1}{2}sin^{-1}(\\frac{x_{traveled}g}{V_0^2 })$  \n",
        "\n"
      ],
      "metadata": {
        "id": "zSBhs8h3_jPU"
      }
    },
    {
      "cell_type": "code",
      "source": [
        "import numpy as np\n",
        "import sympy\n",
        "from newtonsolver import newton_solver as ns\n",
        "\n",
        "V0_ = 10\n",
        "g_ = 9.81\n",
        "x_trav_ = 10\n",
        "\n",
        "n = 1\n",
        "t = sympy.symbols(f't:{n}')\n",
        "\n",
        "F = sympy.Matrix([x_trav_ - V0_ **2 * sympy.sin( 2 * t[0] ) / g_])\n",
        "J = F.jacobian(x)\n",
        "t0 = np.array([0.7])\n",
        "\n",
        "found = ns.solver(F, J, t, t0, verbose=True)\n",
        "known = 0.5 * np.arcsin(x_trav_ * g_ / V0_**2)\n",
        "\n",
        "print(f'The known answer is {known}, the found answer is {found}')\n"
      ],
      "metadata": {
        "colab": {
          "base_uri": "https://localhost:8080/",
          "height": 1000
        },
        "id": "yd_R33EnAmzT",
        "outputId": "f51745f7-d866-4b15-f2e3-20c9a2db9919"
      },
      "execution_count": 20,
      "outputs": [
        {
          "output_type": "stream",
          "name": "stdout",
          "text": [
            "Iteration 1; absolute error is nan ; relative error is [inf]\n",
            "Iteration 2; absolute error is nan ; relative error is [nan]\n",
            "Iteration 3; absolute error is nan ; relative error is [nan]\n",
            "Iteration 4; absolute error is nan ; relative error is [nan]\n",
            "Iteration 5; absolute error is nan ; relative error is [nan]\n",
            "Iteration 6; absolute error is nan ; relative error is [nan]\n",
            "Iteration 7; absolute error is nan ; relative error is [nan]\n",
            "Iteration 8; absolute error is nan ; relative error is [nan]\n",
            "Iteration 9; absolute error is nan ; relative error is [nan]\n",
            "Iteration 10; absolute error is nan ; relative error is [nan]\n",
            "Iteration 11; absolute error is nan ; relative error is [nan]\n",
            "Iteration 12; absolute error is nan ; relative error is [nan]\n",
            "Iteration 13; absolute error is nan ; relative error is [nan]\n",
            "Iteration 14; absolute error is nan ; relative error is [nan]\n",
            "Iteration 15; absolute error is nan ; relative error is [nan]\n",
            "Iteration 16; absolute error is nan ; relative error is [nan]\n",
            "Iteration 17; absolute error is nan ; relative error is [nan]\n",
            "Iteration 18; absolute error is nan ; relative error is [nan]\n",
            "Iteration 19; absolute error is nan ; relative error is [nan]\n",
            "Iteration 20; absolute error is nan ; relative error is [nan]\n",
            "Iteration 21; absolute error is nan ; relative error is [nan]\n",
            "Iteration 22; absolute error is nan ; relative error is [nan]\n",
            "Iteration 23; absolute error is nan ; relative error is [nan]\n",
            "Iteration 24; absolute error is nan ; relative error is [nan]\n",
            "Iteration 25; absolute error is nan ; relative error is [nan]\n",
            "Iteration 26; absolute error is nan ; relative error is [nan]\n",
            "Iteration 27; absolute error is nan ; relative error is [nan]\n",
            "Iteration 28; absolute error is nan ; relative error is [nan]\n",
            "Iteration 29; absolute error is nan ; relative error is [nan]\n",
            "Iteration 30; absolute error is nan ; relative error is [nan]\n",
            "Iteration 31; absolute error is nan ; relative error is [nan]\n",
            "Iteration 32; absolute error is nan ; relative error is [nan]\n",
            "Iteration 33; absolute error is nan ; relative error is [nan]\n",
            "Iteration 34; absolute error is nan ; relative error is [nan]\n",
            "Iteration 35; absolute error is nan ; relative error is [nan]\n",
            "Iteration 36; absolute error is nan ; relative error is [nan]\n",
            "Iteration 37; absolute error is nan ; relative error is [nan]\n",
            "Iteration 38; absolute error is nan ; relative error is [nan]\n",
            "Iteration 39; absolute error is nan ; relative error is [nan]\n",
            "Iteration 40; absolute error is nan ; relative error is [nan]\n",
            "Iteration 41; absolute error is nan ; relative error is [nan]\n",
            "Iteration 42; absolute error is nan ; relative error is [nan]\n",
            "Iteration 43; absolute error is nan ; relative error is [nan]\n",
            "Iteration 44; absolute error is nan ; relative error is [nan]\n",
            "Iteration 45; absolute error is nan ; relative error is [nan]\n",
            "Iteration 46; absolute error is nan ; relative error is [nan]\n",
            "Iteration 47; absolute error is nan ; relative error is [nan]\n",
            "Iteration 48; absolute error is nan ; relative error is [nan]\n",
            "Iteration 49; absolute error is nan ; relative error is [nan]\n",
            "Iteration 50; absolute error is nan ; relative error is [nan]\n"
          ]
        },
        {
          "output_type": "stream",
          "name": "stderr",
          "text": [
            "<lambdifygenerated-1419>:2: RuntimeWarning: invalid value encountered in sin\n",
            "  return array([[10 - 10.1936799184506*sin(2*t0)]])\n",
            "<lambdifygenerated-1420>:2: RuntimeWarning: invalid value encountered in sin\n",
            "  return array([[10 - 10.1936799184506*sin(2*t0)]])\n"
          ]
        },
        {
          "output_type": "error",
          "ename": "MaxIterationReached",
          "evalue": "Maximum iterations reached without finding a root. Try increasing the tolerance, allowing more iterations, or adjusting the initial guess.",
          "traceback": [
            "\u001b[0;31m---------------------------------------------------------------------------\u001b[0m",
            "\u001b[0;31mMaxIterationReached\u001b[0m                       Traceback (most recent call last)",
            "\u001b[0;32m<ipython-input-20-735a700cf607>\u001b[0m in \u001b[0;36m<cell line: 0>\u001b[0;34m()\u001b[0m\n\u001b[1;32m     14\u001b[0m \u001b[0mt0\u001b[0m \u001b[0;34m=\u001b[0m \u001b[0mnp\u001b[0m\u001b[0;34m.\u001b[0m\u001b[0marray\u001b[0m\u001b[0;34m(\u001b[0m\u001b[0;34m[\u001b[0m\u001b[0;36m0.7\u001b[0m\u001b[0;34m]\u001b[0m\u001b[0;34m)\u001b[0m\u001b[0;34m\u001b[0m\u001b[0;34m\u001b[0m\u001b[0m\n\u001b[1;32m     15\u001b[0m \u001b[0;34m\u001b[0m\u001b[0m\n\u001b[0;32m---> 16\u001b[0;31m \u001b[0mfound\u001b[0m \u001b[0;34m=\u001b[0m \u001b[0mns\u001b[0m\u001b[0;34m.\u001b[0m\u001b[0msolver\u001b[0m\u001b[0;34m(\u001b[0m\u001b[0mF\u001b[0m\u001b[0;34m,\u001b[0m \u001b[0mJ\u001b[0m\u001b[0;34m,\u001b[0m \u001b[0mt\u001b[0m\u001b[0;34m,\u001b[0m \u001b[0mt0\u001b[0m\u001b[0;34m,\u001b[0m \u001b[0mverbose\u001b[0m\u001b[0;34m=\u001b[0m\u001b[0;32mTrue\u001b[0m\u001b[0;34m)\u001b[0m\u001b[0;34m\u001b[0m\u001b[0;34m\u001b[0m\u001b[0m\n\u001b[0m\u001b[1;32m     17\u001b[0m \u001b[0mknown\u001b[0m \u001b[0;34m=\u001b[0m \u001b[0;36m0.5\u001b[0m \u001b[0;34m*\u001b[0m \u001b[0mnp\u001b[0m\u001b[0;34m.\u001b[0m\u001b[0marcsin\u001b[0m\u001b[0;34m(\u001b[0m\u001b[0mx_trav_\u001b[0m \u001b[0;34m*\u001b[0m \u001b[0mg_\u001b[0m \u001b[0;34m/\u001b[0m \u001b[0mV0_\u001b[0m\u001b[0;34m**\u001b[0m\u001b[0;36m2\u001b[0m\u001b[0;34m)\u001b[0m\u001b[0;34m\u001b[0m\u001b[0;34m\u001b[0m\u001b[0m\n\u001b[1;32m     18\u001b[0m \u001b[0;34m\u001b[0m\u001b[0m\n",
            "\u001b[0;32m/content/newtonsolver/newton_solver.py\u001b[0m in \u001b[0;36msolver\u001b[0;34m(F, J, x, x0, max_iter, rel_tol, abs_tol, verbose)\u001b[0m\n\u001b[1;32m     58\u001b[0m         \u001b[0;32mif\u001b[0m \u001b[0mis_error_small\u001b[0m\u001b[0;34m(\u001b[0m \u001b[0mabs_error\u001b[0m\u001b[0;34m,\u001b[0m \u001b[0mabs_tol\u001b[0m \u001b[0;34m)\u001b[0m \u001b[0;32mor\u001b[0m \u001b[0mis_error_small\u001b[0m\u001b[0;34m(\u001b[0m \u001b[0mrel_error\u001b[0m\u001b[0;34m,\u001b[0m \u001b[0mrel_tol\u001b[0m \u001b[0;34m)\u001b[0m\u001b[0;34m:\u001b[0m\u001b[0;34m\u001b[0m\u001b[0;34m\u001b[0m\u001b[0m\n\u001b[1;32m     59\u001b[0m             \u001b[0;32mreturn\u001b[0m \u001b[0mx1\u001b[0m\u001b[0;34m\u001b[0m\u001b[0;34m\u001b[0m\u001b[0m\n\u001b[0;32m---> 60\u001b[0;31m     \u001b[0;32mraise\u001b[0m \u001b[0mMaxIterationReached\u001b[0m\u001b[0;34m(\u001b[0m\u001b[0;34m\"Maximum iterations reached without finding a root. Try increasing the tolerance, allowing more iterations, or adjusting the initial guess.\"\u001b[0m\u001b[0;34m)\u001b[0m\u001b[0;34m\u001b[0m\u001b[0;34m\u001b[0m\u001b[0m\n\u001b[0m",
            "\u001b[0;31mMaxIterationReached\u001b[0m: Maximum iterations reached without finding a root. Try increasing the tolerance, allowing more iterations, or adjusting the initial guess."
          ]
        }
      ]
    },
    {
      "cell_type": "markdown",
      "source": [
        "---\n",
        "**Example 5: Projectile Problem B**\n",
        "\n",
        "Consider the same projectile problem as before. This time the angle is known. How far does the ball travel horizentally before it hits the ground? Find $x_traveled$ given the following information.\n",
        "Find the θ numerically using bisection method, given the following values.\n",
        "\n",
        "$g=9.81m/s^2$  \n",
        "$V_0=10m/s^2$  \n",
        "$\\theta= \\frac{\\pi}{3}$   \n",
        "\n",
        "\n",
        "---\n",
        "**Answer:**  \n",
        "$x = V_0 cos(\\theta) t$ → $t = \\frac{x}{V_0 cos(\\theta)} $  \n",
        "$y = V_0 sin(\\theta)t - \\frac{1}{2}gt^2$ →$y = x tan\\theta - \\frac{gx^2}{2V_0^2cos^2\\theta}$  \n",
        "\n",
        "We need to find the $x_{traveled}$ in this equation:    \n",
        "$x_{traveled} tan\\theta - \\frac{gx_{traveled}^2}{2V_0^2cos^2\\theta} = 0$\n",
        "\n",
        "PS: Analytical answer ⇒ $x_{traveled} = \\frac{V_0^2sin(2\\theta)}{g}$\n"
      ],
      "metadata": {
        "id": "9hDLQzAC_yPi"
      }
    },
    {
      "cell_type": "code",
      "source": [
        "import numpy as np\n",
        "import sympy\n",
        "from newtonsolver import newton_solver as ns\n",
        "V0_ = 10\n",
        "g_ = 9.81\n",
        "theta_ = np.pi/3\n",
        "n = 1\n",
        "x = sympy.symbols(f'x:{n}')\n",
        "\n",
        "F = sympy.Matrix([x[0] * np.tan( theta_) - g_ * x[0]**2 / (2 * V0_**2 * np.cos(theta_)**2 )])\n",
        "J = F.jacobian(x)\n",
        "x0 = np.array([5])\n",
        "\n",
        "found = ns.solver(F, J, x, x0, verbose=True)\n",
        "known = V0_**2 * np.sin(2 * theta_) / g_\n",
        "\n",
        "print(f'The known answer is {known}, the found answer is {found}')\n",
        "\n"
      ],
      "metadata": {
        "colab": {
          "base_uri": "https://localhost:8080/"
        },
        "id": "YKmLiMIe_yco",
        "outputId": "c61c2c4c-3882-4737-8420-613c19bcdd09"
      },
      "execution_count": 23,
      "outputs": [
        {
          "output_type": "stream",
          "name": "stdout",
          "text": [
            "Iteration 1; absolute error is 52.32555810059014 ; relative error is [16.33079898]\n",
            "Iteration 2; absolute error is 12.190794238650973 ; relative error is [7.88254573]\n",
            "Iteration 3; absolute error is 2.320169974861326 ; relative error is [3.43882757]\n",
            "Iteration 4; absolute error is 0.2190853015350278 ; relative error is [1.05671317]\n",
            "Iteration 5; absolute error is 0.0029689355960851316 ; relative error is [0.12301297]\n",
            "Iteration 6; absolute error is 5.760260552989394e-07 ; relative error is [0.00171345]\n",
            "Iteration 7; absolute error is 2.1316282072803006e-14 ; relative error is [3.32568773e-07]\n",
            "The known answer is 8.82798576742547, the found answer is [8.82798577]\n"
          ]
        }
      ]
    }
  ]
}